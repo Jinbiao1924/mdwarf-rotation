{
 "cells": [
  {
   "cell_type": "code",
   "execution_count": 1,
   "metadata": {
    "collapsed": true
   },
   "outputs": [],
   "source": [
    "from __future__ import division, print_function"
   ]
  },
  {
   "cell_type": "code",
   "execution_count": 2,
   "metadata": {
    "collapsed": true
   },
   "outputs": [],
   "source": [
    "import numpy as np\n",
    "import matplotlib.pyplot as plt\n",
    "%matplotlib inline"
   ]
  },
  {
   "cell_type": "code",
   "execution_count": 21,
   "metadata": {
    "collapsed": false
   },
   "outputs": [],
   "source": [
    "import george\n",
    "from george import kernels\n",
    "\n",
    "import pandas as pd\n",
    "\n",
    "from astropy.stats import median_absolute_deviation as MAD\n",
    "import glob\n",
    "import emcee\n",
    "\n",
    "import tqdm"
   ]
  },
  {
   "cell_type": "code",
   "execution_count": 22,
   "metadata": {
    "collapsed": false
   },
   "outputs": [
    {
     "name": "stdout",
     "output_type": "stream",
     "text": [
      "(5,)\n",
      "(3475,) (3475,) (3475,)\n"
     ]
    }
   ],
   "source": [
    "# fn = '../data/215900519P-ep20160806.csv'\n",
    "fns = glob.glob('../data/*.csv')\n",
    "print(np.shape(fns))\n",
    "fn = fns[4]\n",
    "df = pd.read_csv(fn, skiprows=39)\n",
    "df['time'] = df.t - df.t[0]\n",
    "df['flux'] = df.fdt_t_roll_2D/ np.median(df.fdt_t_roll_2D) - 1.0\n",
    "df['ferr'] = np.ones_like(df.t) * MAD(df.flux) /20\n",
    "\n",
    "print(np.shape(df.time), np.shape(df.flux), np.shape(df.ferr))"
   ]
  },
  {
   "cell_type": "code",
   "execution_count": 23,
   "metadata": {
    "collapsed": false
   },
   "outputs": [
    {
     "data": {
      "text/plain": [
       "(-0.03, 0.03)"
      ]
     },
     "execution_count": 23,
     "metadata": {},
     "output_type": "execute_result"
    },
    {
     "data": {
      "image/png": "[encoded data removed]",
      "text/plain": [
       "<matplotlib.figure.Figure at 0x11b9b04e0>"
      ]
     },
     "metadata": {},
     "output_type": "display_data"
    }
   ],
   "source": [
    "plt.scatter(df.time,df.flux)\n",
    "# plt.xlim(0,5)\n",
    "plt.ylim(-0.03,0.03)"
   ]
  },
  {
   "cell_type": "code",
   "execution_count": 24,
   "metadata": {
    "collapsed": false
   },
   "outputs": [
    {
     "name": "stdout",
     "output_type": "stream",
     "text": [
      "(716,)\n",
      "(716,)\n",
      "(716,)\n"
     ]
    },
    {
     "name": "stderr",
     "output_type": "stream",
     "text": [
      "/Users/tom/anaconda3/lib/python3.6/site-packages/pandas/computation/expressions.py:182: UserWarning: evaluating in Python space because the '*' operator is not supported by numexpr for the bool dtype, use '&' instead\n",
      "  unsupported[op_str]))\n"
     ]
    },
    {
     "data": {
      "text/plain": [
       "(None, None, None)"
      ]
     },
     "execution_count": 24,
     "metadata": {},
     "output_type": "execute_result"
    }
   ],
   "source": [
    "y = df.loc[(df.time < 15) * (np.abs(df.flux)<0.02),'flux']\n",
    "yerr = df.loc[(df.time < 15) * (np.abs(df.flux)<0.02),'ferr']\n",
    "t = df.loc[(df.time < 15) * (np.abs(df.flux)<0.02),'time']\n",
    "\n",
    "\n",
    "print(np.shape(t)), print(np.shape(yerr)), print(np.shape(t))\n",
    "\n"
   ]
  },
  {
   "cell_type": "code",
   "execution_count": 25,
   "metadata": {
    "collapsed": true
   },
   "outputs": [],
   "source": [
    "A = 0.001\n",
    "l = 10.\n",
    "G = 2.0\n",
    "sigma = 0.001\n",
    "P = 2.0\n",
    "kernel= A * kernels.ExpSquaredKernel(l) * kernels.ExpSine2Kernel(G, P) + kernels.WhiteKernel(sigma)   \n",
    "# kernel= A * kernels.ExpSine2Kernel(G, P) + kernels.WhiteKernel(sigma)   \n",
    "                  "
   ]
  },
  {
   "cell_type": "code",
   "execution_count": 26,
   "metadata": {
    "collapsed": false
   },
   "outputs": [
    {
     "name": "stdout",
     "output_type": "stream",
     "text": [
      "1759.84329312\n",
      "[ -12.65082338    4.51216303   -8.73800186   65.66771532 -328.58545937]\n"
     ]
    }
   ],
   "source": [
    "\n",
    "gp = george.GP(kernel, )#solver=george.HODLRSolver)\n",
    "gp.compute(t, yerr=yerr)\n",
    "print(gp.lnlikelihood(y))\n",
    "print(gp.grad_lnlikelihood(y))\n"
   ]
  },
  {
   "cell_type": "code",
   "execution_count": 27,
   "metadata": {
    "collapsed": false
   },
   "outputs": [
    {
     "name": "stdout",
     "output_type": "stream",
     "text": [
      "1759.84329312\n",
      "3284.01713594\n"
     ]
    }
   ],
   "source": [
    "import scipy.optimize as op\n",
    "\n",
    "# Define the objective function (negative log-likelihood in this case).\n",
    "def nll(p, yval=y):\n",
    "    # Update the kernel parameters and compute the likelihood.\n",
    "    gp.kernel[:] = p\n",
    "    ll = gp.lnlikelihood(yval, quiet=True)\n",
    "\n",
    "    # The scipy optimizer doesn't play well with infinities.\n",
    "    return -ll if np.isfinite(ll) else 1e25\n",
    "\n",
    "# And the gradient of the objective function.\n",
    "def grad_nll(p, yval=y):\n",
    "    # Update the kernel parameters and compute the likelihood.\n",
    "    gp.kernel[:] = p\n",
    "    return -gp.grad_lnlikelihood(yval, quiet=True)\n",
    "\n",
    "# You need to compute the GP once before starting the optimization.\n",
    "gp.compute(t, yerr=yerr)\n",
    "\n",
    "# Print the initial ln-likelihood.\n",
    "print(gp.lnlikelihood(y))\n",
    "\n",
    "# Run the optimization routine.\n",
    "p0 = gp.kernel.vector\n",
    "results = op.minimize(nll, p0, jac=grad_nll)\n",
    "\n",
    "# Update the kernel and print the final log-likelihood.\n",
    "gp.kernel[:] = results.x\n",
    "print(gp.lnlikelihood(y))"
   ]
  },
  {
   "cell_type": "code",
   "execution_count": 28,
   "metadata": {
    "collapsed": false
   },
   "outputs": [
    {
     "name": "stdout",
     "output_type": "stream",
     "text": [
      "      fun: -3284.017135938245\n",
      " hess_inv: array([[  1.50783522e-02,   4.74758608e-03,  -2.67690890e-03,\n",
      "         -1.54850307e-05,  -1.52031424e-04],\n",
      "       [  4.74758608e-03,   1.12513245e-02,   6.89448666e-04,\n",
      "          3.21149438e-06,   6.75894597e-04],\n",
      "       [ -2.67690890e-03,   6.89448666e-04,   1.07893153e-02,\n",
      "         -1.33044179e-05,  -3.98603278e-03],\n",
      "       [ -1.54850307e-05,   3.21149438e-06,  -1.33044179e-05,\n",
      "          4.63135012e-06,   1.62926967e-05],\n",
      "       [ -1.52031424e-04,   6.75894597e-04,  -3.98603278e-03,\n",
      "          1.62926967e-05,   6.74062852e-03]])\n",
      "      jac: array([  1.25112147e-06,  -3.16829029e-06,  -3.73151111e-07,\n",
      "        -2.72527507e-05,   2.69679598e-08])\n",
      "  message: 'Desired error not necessarily achieved due to precision loss.'\n",
      "     nfev: 108\n",
      "      nit: 30\n",
      "     njev: 96\n",
      "   status: 2\n",
      "  success: False\n",
      "        x: array([-10.3202286 ,   1.68722503,   4.36694049,   0.8625197 , -13.04212667])\n"
     ]
    }
   ],
   "source": [
    "print(results)"
   ]
  },
  {
   "cell_type": "code",
   "execution_count": 29,
   "metadata": {
    "collapsed": false
   },
   "outputs": [],
   "source": [
    "x = np.linspace(0, 15, 500)\n",
    "mu, cov = gp.predict(y, x)\n",
    "std = np.sqrt(np.diag(cov))"
   ]
  },
  {
   "cell_type": "code",
   "execution_count": 30,
   "metadata": {
    "collapsed": false
   },
   "outputs": [],
   "source": [
    "mup, covp = gp.predict(y, t + (t*0.0001)) # for some reason trying to predict at exactly the same time is a problem\n",
    "stdp = np.sqrt(np.diag(covp))\n",
    "flares = y > mup + (stdp*1.5)\n",
    "tflares = np.where(flares,t,np.nan)\n",
    "yflares = np.where(flares,y,np.nan)"
   ]
  },
  {
   "cell_type": "code",
   "execution_count": 31,
   "metadata": {
    "collapsed": false
   },
   "outputs": [
    {
     "data": {
      "image/png": "[encoded data removed]",
      "text/plain": [
       "<matplotlib.figure.Figure at 0x11ba16668>"
      ]
     },
     "metadata": {},
     "output_type": "display_data"
    }
   ],
   "source": [
    "fig, ax = plt.subplots(1,1,figsize=[11,6], )\n",
    "\n",
    "ax.errorbar(t, y, yerr=yerr, fmt=\".k\", capsize=0,alpha=0.7)\n",
    "ax.plot(tflares, yflares, 'o-')\n",
    "ax.fill_between(x,mu-std,mu+std, color=\"#ff7f0e\", alpha=0.3,\n",
    "                edgecolor=\"none\")\n",
    "ax.plot(x,mu,color=\"#ff7f0e\", alpha=0.7)\n",
    "ax.set_xlim(8,15)\n",
    "\n",
    "ax.set_ylabel('Relative brightness', fontsize=17)\n",
    "ax.minorticks_on()"
   ]
  },
  {
   "cell_type": "code",
   "execution_count": 32,
   "metadata": {
    "collapsed": false
   },
   "outputs": [
    {
     "name": "stdout",
     "output_type": "stream",
     "text": [
      "3353.59515131\n",
      "[ -29.13751129   23.25880475  -79.63263599   80.05249969 -145.66466578]\n",
      "3360.58332293\n",
      "3455.39976556\n"
     ]
    }
   ],
   "source": [
    "gp = george.GP(kernel, )#solver=george.HODLRSolver)\n",
    "gp.compute(t[~flares], yerr=yerr[~flares])\n",
    "print(gp.lnlikelihood(y[~flares]))\n",
    "print(gp.grad_lnlikelihood(y[~flares]))\n",
    "\n",
    "# You need to compute the GP once before starting the optimization.\n",
    "gp.compute(t[~flares])\n",
    "\n",
    "# Print the initial ln-likelihood.\n",
    "print(gp.lnlikelihood(y[~flares]))\n",
    "\n",
    "# Run the optimization routine.\n",
    "p0 = gp.kernel.vector\n",
    "results = op.minimize(nll, p0, jac=grad_nll,args=y[~flares])\n",
    "\n",
    "# Update the kernel and print the final log-likelihood.\n",
    "gp.kernel[:] = results.x\n",
    "print(gp.lnlikelihood(y[~flares]))"
   ]
  },
  {
   "cell_type": "code",
   "execution_count": 33,
   "metadata": {
    "collapsed": false
   },
   "outputs": [],
   "source": [
    "x = np.linspace(0, 15, 500)\n",
    "mu, cov = gp.predict(y[~flares], x)\n",
    "std = np.sqrt(np.diag(cov))"
   ]
  },
  {
   "cell_type": "code",
   "execution_count": 34,
   "metadata": {
    "collapsed": false
   },
   "outputs": [],
   "source": [
    "mup, covp = gp.predict(y[~flares], t + (t*0.0001)) # for some reason trying to predict at exactly the same time is a problem\n",
    "stdp = np.sqrt(np.diag(covp))\n",
    "flares = y > mup + (stdp*2.5)\n",
    "tflares = np.where(flares,t,np.nan)\n",
    "yflares = np.where(flares,y,np.nan)"
   ]
  },
  {
   "cell_type": "code",
   "execution_count": 35,
   "metadata": {
    "collapsed": false
   },
   "outputs": [
    {
     "data": {
      "image/png": "[encoded data removed]",
      "text/plain": [
       "<matplotlib.figure.Figure at 0x10a01dd68>"
      ]
     },
     "metadata": {},
     "output_type": "display_data"
    }
   ],
   "source": [
    "fig, ax = plt.subplots(1,1,figsize=[11,6], )\n",
    "\n",
    "ax.errorbar(t, y, yerr=0, fmt=\".k\", capsize=0,alpha=0.7)\n",
    "ax.plot(tflares, yflares, 'o')\n",
    "ax.fill_between(x,mu-std*2,mu+std*2, color=\"#ff7f0e\", alpha=0.3,\n",
    "                edgecolor=\"none\")\n",
    "ax.plot(x,mu,color=\"#ff7f0e\", alpha=0.7)\n",
    "ax.set_xlim(8,15)\n",
    "\n",
    "ax.set_ylabel('Relative brightness', fontsize=17)\n",
    "ax.minorticks_on()"
   ]
  },
  {
   "cell_type": "code",
   "execution_count": 36,
   "metadata": {
    "collapsed": false
   },
   "outputs": [
    {
     "data": {
      "text/plain": [
       "array([  3.04257446e-05,   1.19128500e+01,   1.60745179e+02,\n",
       "         3.57219316e+00,   7.15489511e-07])"
      ]
     },
     "execution_count": 36,
     "metadata": {},
     "output_type": "execute_result"
    }
   ],
   "source": [
    "(np.e**gp.kernel[:])"
   ]
  },
  {
   "cell_type": "code",
   "execution_count": 37,
   "metadata": {
    "collapsed": false
   },
   "outputs": [
    {
     "data": {
      "text/plain": [
       "array([-10.40022145,   2.47761765,   5.07982038,   1.27317974, -14.1502989 ])"
      ]
     },
     "execution_count": 37,
     "metadata": {},
     "output_type": "execute_result"
    }
   ],
   "source": [
    "gp.kernel.vector"
   ]
  },
  {
   "cell_type": "code",
   "execution_count": 38,
   "metadata": {
    "collapsed": false
   },
   "outputs": [],
   "source": [
    "nwalkers, ndim = 16, len(gp.kernel.vector)"
   ]
  },
  {
   "cell_type": "code",
   "execution_count": 85,
   "metadata": {
    "collapsed": false
   },
   "outputs": [],
   "source": [
    "def angus_kernel(theta):\n",
    "    \"\"\"\n",
    "    use the kernel that Ruth Angus uses. Be sure to cite her\n",
    "    \"\"\"\n",
    "    theta = np.exp(theta)\n",
    "    A = theta[0]\n",
    "    l = theta[1]\n",
    "    G = theta[2]\n",
    "    sigma = theta[4]\n",
    "    P = theta[3]\n",
    "    kernel = (A * kernels.ExpSquaredKernel(l) *\n",
    "              kernels.ExpSine2Kernel(G, P) +\n",
    "              kernels.WhiteKernel(sigma)\n",
    "              )\n",
    "    return kernel\n",
    "\n",
    "def lnprob(p, time, y, yerr):\n",
    "    # Trivial improper prior: uniform in the log.\n",
    "    # from DFM george user guide\n",
    "\n",
    "    if np.any((-p < -20) + (p > 10)):\n",
    "        return -np.inf\n",
    "\n",
    "    lnprior = 0.0\n",
    "\n",
    "    kernel = angus_kernel(p)\n",
    "    gp = george.GP(kernel)\n",
    "    gp.compute(time, yerr)\n",
    "\n",
    "    return lnprior + gp.lnlikelihood(y, quiet=True)"
   ]
  },
  {
   "cell_type": "code",
   "execution_count": 86,
   "metadata": {
    "collapsed": false
   },
   "outputs": [],
   "source": [
    "sampler = emcee.EnsembleSampler(nwalkers, ndim, lnprob,\n",
    "                                    args=[\n",
    "                                        t,\n",
    "                                        y,\n",
    "                                        yerr,\n",
    "                                    ])"
   ]
  },
  {
   "cell_type": "code",
   "execution_count": 87,
   "metadata": {
    "collapsed": false
   },
   "outputs": [],
   "source": [
    "p0 = (np.repeat(gp.kernel.vector, nwalkers) *\n",
    "      np.random.random(size=ndim * nwalkers))\n",
    "p0 = p0.reshape(ndim, nwalkers).T"
   ]
  },
  {
   "cell_type": "code",
   "execution_count": 88,
   "metadata": {
    "collapsed": false
   },
   "outputs": [],
   "source": [
    "p0, _, _ = sampler.run_mcmc(p0, 1)"
   ]
  },
  {
   "cell_type": "code",
   "execution_count": 128,
   "metadata": {
    "collapsed": false
   },
   "outputs": [],
   "source": [
    "samples = sampler.run_mcmc(p0, 2000)"
   ]
  },
  {
   "cell_type": "code",
   "execution_count": 151,
   "metadata": {
    "collapsed": false
   },
   "outputs": [
    {
     "data": {
      "text/plain": [
       "(array([ 1015.,  4138.,   471.,     0.,     0.,     0.,     0.,     0.,\n",
       "          283.,  5341.]),\n",
       " array([ 1.04477958,  1.06415793,  1.08353629,  1.10291464,  1.12229299,\n",
       "         1.14167134,  1.16104969,  1.18042805,  1.1998064 ,  1.21918475,\n",
       "         1.2385631 ]),\n",
       " <a list of 10 Patch objects>)"
      ]
     },
     "execution_count": 151,
     "metadata": {},
     "output_type": "execute_result"
    },
    {
     "data": {
      "image/png": "[encoded data removed]",
      "text/plain": [
       "<matplotlib.figure.Figure at 0x1244545c0>"
      ]
     },
     "metadata": {},
     "output_type": "display_data"
    }
   ],
   "source": [
    "plt.hist(np.e**sampler.chain[:,1500:,3].flatten())"
   ]
  },
  {
   "cell_type": "code",
   "execution_count": 158,
   "metadata": {
    "collapsed": false
   },
   "outputs": [
    {
     "data": {
      "text/html": [
       "<div>\n",
       "<table border=\"1\" class=\"dataframe\">\n",
       "  <thead>\n",
       "    <tr style=\"text-align: right;\">\n",
       "      <th></th>\n",
       "      <th>0</th>\n",
       "      <th>1</th>\n",
       "      <th>2</th>\n",
       "      <th>3</th>\n",
       "      <th>4</th>\n",
       "    </tr>\n",
       "  </thead>\n",
       "  <tbody>\n",
       "    <tr>\n",
       "      <th>0</th>\n",
       "      <td>-3.242322</td>\n",
       "      <td>1.844051</td>\n",
       "      <td>2.149511</td>\n",
       "      <td>0.723027</td>\n",
       "      <td>-9.602036</td>\n",
       "    </tr>\n",
       "    <tr>\n",
       "      <th>1</th>\n",
       "      <td>-4.222134</td>\n",
       "      <td>1.833992</td>\n",
       "      <td>2.893335</td>\n",
       "      <td>0.684861</td>\n",
       "      <td>-9.996093</td>\n",
       "    </tr>\n",
       "    <tr>\n",
       "      <th>2</th>\n",
       "      <td>-5.991782</td>\n",
       "      <td>2.115890</td>\n",
       "      <td>2.310145</td>\n",
       "      <td>0.768939</td>\n",
       "      <td>-10.746850</td>\n",
       "    </tr>\n",
       "    <tr>\n",
       "      <th>3</th>\n",
       "      <td>-3.242322</td>\n",
       "      <td>1.844051</td>\n",
       "      <td>2.149511</td>\n",
       "      <td>0.723027</td>\n",
       "      <td>-9.602036</td>\n",
       "    </tr>\n",
       "    <tr>\n",
       "      <th>4</th>\n",
       "      <td>-3.242322</td>\n",
       "      <td>1.844051</td>\n",
       "      <td>2.149511</td>\n",
       "      <td>0.723027</td>\n",
       "      <td>-9.602036</td>\n",
       "    </tr>\n",
       "    <tr>\n",
       "      <th>5</th>\n",
       "      <td>-4.398130</td>\n",
       "      <td>1.832186</td>\n",
       "      <td>3.026943</td>\n",
       "      <td>0.678006</td>\n",
       "      <td>-10.066875</td>\n",
       "    </tr>\n",
       "    <tr>\n",
       "      <th>6</th>\n",
       "      <td>-4.366205</td>\n",
       "      <td>1.837516</td>\n",
       "      <td>2.989887</td>\n",
       "      <td>0.669114</td>\n",
       "      <td>-10.059891</td>\n",
       "    </tr>\n",
       "    <tr>\n",
       "      <th>7</th>\n",
       "      <td>-4.366205</td>\n",
       "      <td>1.837516</td>\n",
       "      <td>2.989887</td>\n",
       "      <td>0.669114</td>\n",
       "      <td>-10.059891</td>\n",
       "    </tr>\n",
       "    <tr>\n",
       "      <th>8</th>\n",
       "      <td>-4.059268</td>\n",
       "      <td>1.726735</td>\n",
       "      <td>2.085253</td>\n",
       "      <td>0.530179</td>\n",
       "      <td>-10.996365</td>\n",
       "    </tr>\n",
       "    <tr>\n",
       "      <th>9</th>\n",
       "      <td>-5.812108</td>\n",
       "      <td>0.545816</td>\n",
       "      <td>1.960960</td>\n",
       "      <td>0.491039</td>\n",
       "      <td>-11.446883</td>\n",
       "    </tr>\n",
       "    <tr>\n",
       "      <th>10</th>\n",
       "      <td>-5.929678</td>\n",
       "      <td>0.431149</td>\n",
       "      <td>1.724593</td>\n",
       "      <td>0.496031</td>\n",
       "      <td>-11.826048</td>\n",
       "    </tr>\n",
       "    <tr>\n",
       "      <th>11</th>\n",
       "      <td>-5.929678</td>\n",
       "      <td>0.431149</td>\n",
       "      <td>1.724593</td>\n",
       "      <td>0.496031</td>\n",
       "      <td>-11.826048</td>\n",
       "    </tr>\n",
       "    <tr>\n",
       "      <th>12</th>\n",
       "      <td>-5.929678</td>\n",
       "      <td>0.431149</td>\n",
       "      <td>1.724593</td>\n",
       "      <td>0.496031</td>\n",
       "      <td>-11.826048</td>\n",
       "    </tr>\n",
       "    <tr>\n",
       "      <th>13</th>\n",
       "      <td>-5.281430</td>\n",
       "      <td>0.351356</td>\n",
       "      <td>1.119993</td>\n",
       "      <td>0.314394</td>\n",
       "      <td>-12.009848</td>\n",
       "    </tr>\n",
       "    <tr>\n",
       "      <th>14</th>\n",
       "      <td>-5.281430</td>\n",
       "      <td>0.351356</td>\n",
       "      <td>1.119993</td>\n",
       "      <td>0.314394</td>\n",
       "      <td>-12.009848</td>\n",
       "    </tr>\n",
       "    <tr>\n",
       "      <th>15</th>\n",
       "      <td>-4.504696</td>\n",
       "      <td>0.899392</td>\n",
       "      <td>0.916214</td>\n",
       "      <td>0.313911</td>\n",
       "      <td>-12.214893</td>\n",
       "    </tr>\n",
       "    <tr>\n",
       "      <th>16</th>\n",
       "      <td>-4.504696</td>\n",
       "      <td>0.899392</td>\n",
       "      <td>0.916214</td>\n",
       "      <td>0.313911</td>\n",
       "      <td>-12.214893</td>\n",
       "    </tr>\n",
       "    <tr>\n",
       "      <th>17</th>\n",
       "      <td>-4.149571</td>\n",
       "      <td>1.464621</td>\n",
       "      <td>0.783156</td>\n",
       "      <td>0.271488</td>\n",
       "      <td>-12.429191</td>\n",
       "    </tr>\n",
       "    <tr>\n",
       "      <th>18</th>\n",
       "      <td>-3.504341</td>\n",
       "      <td>1.692546</td>\n",
       "      <td>0.158906</td>\n",
       "      <td>0.198163</td>\n",
       "      <td>-12.415830</td>\n",
       "    </tr>\n",
       "    <tr>\n",
       "      <th>19</th>\n",
       "      <td>-3.504341</td>\n",
       "      <td>1.692546</td>\n",
       "      <td>0.158906</td>\n",
       "      <td>0.198163</td>\n",
       "      <td>-12.415830</td>\n",
       "    </tr>\n",
       "    <tr>\n",
       "      <th>20</th>\n",
       "      <td>-3.504341</td>\n",
       "      <td>1.692546</td>\n",
       "      <td>0.158906</td>\n",
       "      <td>0.198163</td>\n",
       "      <td>-12.415830</td>\n",
       "    </tr>\n",
       "    <tr>\n",
       "      <th>21</th>\n",
       "      <td>-3.504341</td>\n",
       "      <td>1.692546</td>\n",
       "      <td>0.158906</td>\n",
       "      <td>0.198163</td>\n",
       "      <td>-12.415830</td>\n",
       "    </tr>\n",
       "    <tr>\n",
       "      <th>22</th>\n",
       "      <td>-3.504341</td>\n",
       "      <td>1.692546</td>\n",
       "      <td>0.158906</td>\n",
       "      <td>0.198163</td>\n",
       "      <td>-12.415830</td>\n",
       "    </tr>\n",
       "    <tr>\n",
       "      <th>23</th>\n",
       "      <td>-3.504341</td>\n",
       "      <td>1.692546</td>\n",
       "      <td>0.158906</td>\n",
       "      <td>0.198163</td>\n",
       "      <td>-12.415830</td>\n",
       "    </tr>\n",
       "    <tr>\n",
       "      <th>24</th>\n",
       "      <td>-3.504341</td>\n",
       "      <td>1.692546</td>\n",
       "      <td>0.158906</td>\n",
       "      <td>0.198163</td>\n",
       "      <td>-12.415830</td>\n",
       "    </tr>\n",
       "    <tr>\n",
       "      <th>25</th>\n",
       "      <td>-4.053037</td>\n",
       "      <td>1.521802</td>\n",
       "      <td>0.469583</td>\n",
       "      <td>0.233479</td>\n",
       "      <td>-12.520216</td>\n",
       "    </tr>\n",
       "    <tr>\n",
       "      <th>26</th>\n",
       "      <td>-3.931018</td>\n",
       "      <td>1.604814</td>\n",
       "      <td>0.312056</td>\n",
       "      <td>0.251371</td>\n",
       "      <td>-12.590085</td>\n",
       "    </tr>\n",
       "    <tr>\n",
       "      <th>27</th>\n",
       "      <td>-3.931018</td>\n",
       "      <td>1.604814</td>\n",
       "      <td>0.312056</td>\n",
       "      <td>0.251371</td>\n",
       "      <td>-12.590085</td>\n",
       "    </tr>\n",
       "    <tr>\n",
       "      <th>28</th>\n",
       "      <td>-3.918666</td>\n",
       "      <td>1.630931</td>\n",
       "      <td>0.326521</td>\n",
       "      <td>0.248754</td>\n",
       "      <td>-12.574948</td>\n",
       "    </tr>\n",
       "    <tr>\n",
       "      <th>29</th>\n",
       "      <td>-3.918666</td>\n",
       "      <td>1.630931</td>\n",
       "      <td>0.326521</td>\n",
       "      <td>0.248754</td>\n",
       "      <td>-12.574948</td>\n",
       "    </tr>\n",
       "    <tr>\n",
       "      <th>...</th>\n",
       "      <td>...</td>\n",
       "      <td>...</td>\n",
       "      <td>...</td>\n",
       "      <td>...</td>\n",
       "      <td>...</td>\n",
       "    </tr>\n",
       "    <tr>\n",
       "      <th>2173</th>\n",
       "      <td>-10.345348</td>\n",
       "      <td>-0.250925</td>\n",
       "      <td>2.477908</td>\n",
       "      <td>0.077926</td>\n",
       "      <td>-13.047394</td>\n",
       "    </tr>\n",
       "    <tr>\n",
       "      <th>2174</th>\n",
       "      <td>-10.345348</td>\n",
       "      <td>-0.250925</td>\n",
       "      <td>2.477908</td>\n",
       "      <td>0.077926</td>\n",
       "      <td>-13.047394</td>\n",
       "    </tr>\n",
       "    <tr>\n",
       "      <th>2175</th>\n",
       "      <td>-10.345348</td>\n",
       "      <td>-0.250925</td>\n",
       "      <td>2.477908</td>\n",
       "      <td>0.077926</td>\n",
       "      <td>-13.047394</td>\n",
       "    </tr>\n",
       "    <tr>\n",
       "      <th>2176</th>\n",
       "      <td>-10.345348</td>\n",
       "      <td>-0.250925</td>\n",
       "      <td>2.477908</td>\n",
       "      <td>0.077926</td>\n",
       "      <td>-13.047394</td>\n",
       "    </tr>\n",
       "    <tr>\n",
       "      <th>2177</th>\n",
       "      <td>-10.356369</td>\n",
       "      <td>-0.275995</td>\n",
       "      <td>2.499935</td>\n",
       "      <td>0.078558</td>\n",
       "      <td>-13.068055</td>\n",
       "    </tr>\n",
       "    <tr>\n",
       "      <th>2178</th>\n",
       "      <td>-10.356369</td>\n",
       "      <td>-0.275995</td>\n",
       "      <td>2.499935</td>\n",
       "      <td>0.078558</td>\n",
       "      <td>-13.068055</td>\n",
       "    </tr>\n",
       "    <tr>\n",
       "      <th>2179</th>\n",
       "      <td>-10.358538</td>\n",
       "      <td>-0.236136</td>\n",
       "      <td>2.530206</td>\n",
       "      <td>0.071479</td>\n",
       "      <td>-12.982576</td>\n",
       "    </tr>\n",
       "    <tr>\n",
       "      <th>2180</th>\n",
       "      <td>-10.358538</td>\n",
       "      <td>-0.236136</td>\n",
       "      <td>2.530206</td>\n",
       "      <td>0.071479</td>\n",
       "      <td>-12.982576</td>\n",
       "    </tr>\n",
       "    <tr>\n",
       "      <th>2181</th>\n",
       "      <td>-10.358538</td>\n",
       "      <td>-0.236136</td>\n",
       "      <td>2.530206</td>\n",
       "      <td>0.071479</td>\n",
       "      <td>-12.982576</td>\n",
       "    </tr>\n",
       "    <tr>\n",
       "      <th>2182</th>\n",
       "      <td>-10.357075</td>\n",
       "      <td>-0.230415</td>\n",
       "      <td>2.534891</td>\n",
       "      <td>0.071931</td>\n",
       "      <td>-12.977189</td>\n",
       "    </tr>\n",
       "    <tr>\n",
       "      <th>2183</th>\n",
       "      <td>-10.357075</td>\n",
       "      <td>-0.230415</td>\n",
       "      <td>2.534891</td>\n",
       "      <td>0.071931</td>\n",
       "      <td>-12.977189</td>\n",
       "    </tr>\n",
       "    <tr>\n",
       "      <th>2184</th>\n",
       "      <td>-10.356742</td>\n",
       "      <td>-0.229111</td>\n",
       "      <td>2.536949</td>\n",
       "      <td>0.071797</td>\n",
       "      <td>-12.983958</td>\n",
       "    </tr>\n",
       "    <tr>\n",
       "      <th>2185</th>\n",
       "      <td>-10.357787</td>\n",
       "      <td>-0.233204</td>\n",
       "      <td>2.530485</td>\n",
       "      <td>0.072217</td>\n",
       "      <td>-12.962704</td>\n",
       "    </tr>\n",
       "    <tr>\n",
       "      <th>2186</th>\n",
       "      <td>-10.357787</td>\n",
       "      <td>-0.233204</td>\n",
       "      <td>2.530485</td>\n",
       "      <td>0.072217</td>\n",
       "      <td>-12.962704</td>\n",
       "    </tr>\n",
       "    <tr>\n",
       "      <th>2187</th>\n",
       "      <td>-10.357787</td>\n",
       "      <td>-0.233204</td>\n",
       "      <td>2.530485</td>\n",
       "      <td>0.072217</td>\n",
       "      <td>-12.962704</td>\n",
       "    </tr>\n",
       "    <tr>\n",
       "      <th>2188</th>\n",
       "      <td>-10.357787</td>\n",
       "      <td>-0.233204</td>\n",
       "      <td>2.530485</td>\n",
       "      <td>0.072217</td>\n",
       "      <td>-12.962704</td>\n",
       "    </tr>\n",
       "    <tr>\n",
       "      <th>2189</th>\n",
       "      <td>-10.477973</td>\n",
       "      <td>-0.197521</td>\n",
       "      <td>2.712656</td>\n",
       "      <td>0.075791</td>\n",
       "      <td>-13.040102</td>\n",
       "    </tr>\n",
       "    <tr>\n",
       "      <th>2190</th>\n",
       "      <td>-10.568167</td>\n",
       "      <td>-0.184874</td>\n",
       "      <td>2.823533</td>\n",
       "      <td>0.079719</td>\n",
       "      <td>-13.027811</td>\n",
       "    </tr>\n",
       "    <tr>\n",
       "      <th>2191</th>\n",
       "      <td>-10.568167</td>\n",
       "      <td>-0.184874</td>\n",
       "      <td>2.823533</td>\n",
       "      <td>0.079719</td>\n",
       "      <td>-13.027811</td>\n",
       "    </tr>\n",
       "    <tr>\n",
       "      <th>2192</th>\n",
       "      <td>-10.500546</td>\n",
       "      <td>-0.176358</td>\n",
       "      <td>2.766131</td>\n",
       "      <td>0.077723</td>\n",
       "      <td>-13.003675</td>\n",
       "    </tr>\n",
       "    <tr>\n",
       "      <th>2193</th>\n",
       "      <td>-10.500546</td>\n",
       "      <td>-0.176358</td>\n",
       "      <td>2.766131</td>\n",
       "      <td>0.077723</td>\n",
       "      <td>-13.003675</td>\n",
       "    </tr>\n",
       "    <tr>\n",
       "      <th>2194</th>\n",
       "      <td>-10.469627</td>\n",
       "      <td>-0.181503</td>\n",
       "      <td>2.728674</td>\n",
       "      <td>0.076089</td>\n",
       "      <td>-13.010268</td>\n",
       "    </tr>\n",
       "    <tr>\n",
       "      <th>2195</th>\n",
       "      <td>-10.377580</td>\n",
       "      <td>-0.203768</td>\n",
       "      <td>2.573000</td>\n",
       "      <td>0.072591</td>\n",
       "      <td>-12.963604</td>\n",
       "    </tr>\n",
       "    <tr>\n",
       "      <th>2196</th>\n",
       "      <td>-10.421105</td>\n",
       "      <td>-0.222433</td>\n",
       "      <td>2.582670</td>\n",
       "      <td>0.073413</td>\n",
       "      <td>-12.980312</td>\n",
       "    </tr>\n",
       "    <tr>\n",
       "      <th>2197</th>\n",
       "      <td>-10.421105</td>\n",
       "      <td>-0.222433</td>\n",
       "      <td>2.582670</td>\n",
       "      <td>0.073413</td>\n",
       "      <td>-12.980312</td>\n",
       "    </tr>\n",
       "    <tr>\n",
       "      <th>2198</th>\n",
       "      <td>-10.421105</td>\n",
       "      <td>-0.222433</td>\n",
       "      <td>2.582670</td>\n",
       "      <td>0.073413</td>\n",
       "      <td>-12.980312</td>\n",
       "    </tr>\n",
       "    <tr>\n",
       "      <th>2199</th>\n",
       "      <td>-10.421105</td>\n",
       "      <td>-0.222433</td>\n",
       "      <td>2.582670</td>\n",
       "      <td>0.073413</td>\n",
       "      <td>-12.980312</td>\n",
       "    </tr>\n",
       "    <tr>\n",
       "      <th>2200</th>\n",
       "      <td>-10.421105</td>\n",
       "      <td>-0.222433</td>\n",
       "      <td>2.582670</td>\n",
       "      <td>0.073413</td>\n",
       "      <td>-12.980312</td>\n",
       "    </tr>\n",
       "    <tr>\n",
       "      <th>2201</th>\n",
       "      <td>-10.421105</td>\n",
       "      <td>-0.222433</td>\n",
       "      <td>2.582670</td>\n",
       "      <td>0.073413</td>\n",
       "      <td>-12.980312</td>\n",
       "    </tr>\n",
       "    <tr>\n",
       "      <th>2202</th>\n",
       "      <td>-10.417056</td>\n",
       "      <td>-0.220510</td>\n",
       "      <td>2.581516</td>\n",
       "      <td>0.073362</td>\n",
       "      <td>-12.978523</td>\n",
       "    </tr>\n",
       "  </tbody>\n",
       "</table>\n",
       "<p>2203 rows × 5 columns</p>\n",
       "</div>"
      ],
      "text/plain": [
       "              0         1         2         3          4\n",
       "0     -3.242322  1.844051  2.149511  0.723027  -9.602036\n",
       "1     -4.222134  1.833992  2.893335  0.684861  -9.996093\n",
       "2     -5.991782  2.115890  2.310145  0.768939 -10.746850\n",
       "3     -3.242322  1.844051  2.149511  0.723027  -9.602036\n",
       "4     -3.242322  1.844051  2.149511  0.723027  -9.602036\n",
       "5     -4.398130  1.832186  3.026943  0.678006 -10.066875\n",
       "6     -4.366205  1.837516  2.989887  0.669114 -10.059891\n",
       "7     -4.366205  1.837516  2.989887  0.669114 -10.059891\n",
       "8     -4.059268  1.726735  2.085253  0.530179 -10.996365\n",
       "9     -5.812108  0.545816  1.960960  0.491039 -11.446883\n",
       "10    -5.929678  0.431149  1.724593  0.496031 -11.826048\n",
       "11    -5.929678  0.431149  1.724593  0.496031 -11.826048\n",
       "12    -5.929678  0.431149  1.724593  0.496031 -11.826048\n",
       "13    -5.281430  0.351356  1.119993  0.314394 -12.009848\n",
       "14    -5.281430  0.351356  1.119993  0.314394 -12.009848\n",
       "15    -4.504696  0.899392  0.916214  0.313911 -12.214893\n",
       "16    -4.504696  0.899392  0.916214  0.313911 -12.214893\n",
       "17    -4.149571  1.464621  0.783156  0.271488 -12.429191\n",
       "18    -3.504341  1.692546  0.158906  0.198163 -12.415830\n",
       "19    -3.504341  1.692546  0.158906  0.198163 -12.415830\n",
       "20    -3.504341  1.692546  0.158906  0.198163 -12.415830\n",
       "21    -3.504341  1.692546  0.158906  0.198163 -12.415830\n",
       "22    -3.504341  1.692546  0.158906  0.198163 -12.415830\n",
       "23    -3.504341  1.692546  0.158906  0.198163 -12.415830\n",
       "24    -3.504341  1.692546  0.158906  0.198163 -12.415830\n",
       "25    -4.053037  1.521802  0.469583  0.233479 -12.520216\n",
       "26    -3.931018  1.604814  0.312056  0.251371 -12.590085\n",
       "27    -3.931018  1.604814  0.312056  0.251371 -12.590085\n",
       "28    -3.918666  1.630931  0.326521  0.248754 -12.574948\n",
       "29    -3.918666  1.630931  0.326521  0.248754 -12.574948\n",
       "...         ...       ...       ...       ...        ...\n",
       "2173 -10.345348 -0.250925  2.477908  0.077926 -13.047394\n",
       "2174 -10.345348 -0.250925  2.477908  0.077926 -13.047394\n",
       "2175 -10.345348 -0.250925  2.477908  0.077926 -13.047394\n",
       "2176 -10.345348 -0.250925  2.477908  0.077926 -13.047394\n",
       "2177 -10.356369 -0.275995  2.499935  0.078558 -13.068055\n",
       "2178 -10.356369 -0.275995  2.499935  0.078558 -13.068055\n",
       "2179 -10.358538 -0.236136  2.530206  0.071479 -12.982576\n",
       "2180 -10.358538 -0.236136  2.530206  0.071479 -12.982576\n",
       "2181 -10.358538 -0.236136  2.530206  0.071479 -12.982576\n",
       "2182 -10.357075 -0.230415  2.534891  0.071931 -12.977189\n",
       "2183 -10.357075 -0.230415  2.534891  0.071931 -12.977189\n",
       "2184 -10.356742 -0.229111  2.536949  0.071797 -12.983958\n",
       "2185 -10.357787 -0.233204  2.530485  0.072217 -12.962704\n",
       "2186 -10.357787 -0.233204  2.530485  0.072217 -12.962704\n",
       "2187 -10.357787 -0.233204  2.530485  0.072217 -12.962704\n",
       "2188 -10.357787 -0.233204  2.530485  0.072217 -12.962704\n",
       "2189 -10.477973 -0.197521  2.712656  0.075791 -13.040102\n",
       "2190 -10.568167 -0.184874  2.823533  0.079719 -13.027811\n",
       "2191 -10.568167 -0.184874  2.823533  0.079719 -13.027811\n",
       "2192 -10.500546 -0.176358  2.766131  0.077723 -13.003675\n",
       "2193 -10.500546 -0.176358  2.766131  0.077723 -13.003675\n",
       "2194 -10.469627 -0.181503  2.728674  0.076089 -13.010268\n",
       "2195 -10.377580 -0.203768  2.573000  0.072591 -12.963604\n",
       "2196 -10.421105 -0.222433  2.582670  0.073413 -12.980312\n",
       "2197 -10.421105 -0.222433  2.582670  0.073413 -12.980312\n",
       "2198 -10.421105 -0.222433  2.582670  0.073413 -12.980312\n",
       "2199 -10.421105 -0.222433  2.582670  0.073413 -12.980312\n",
       "2200 -10.421105 -0.222433  2.582670  0.073413 -12.980312\n",
       "2201 -10.421105 -0.222433  2.582670  0.073413 -12.980312\n",
       "2202 -10.417056 -0.220510  2.581516  0.073362 -12.978523\n",
       "\n",
       "[2203 rows x 5 columns]"
      ]
     },
     "execution_count": 158,
     "metadata": {},
     "output_type": "execute_result"
    }
   ],
   "source": []
  },
  {
   "cell_type": "code",
   "execution_count": null,
   "metadata": {
    "collapsed": false
   },
   "outputs": [],
   "source": []
  },
  {
   "cell_type": "code",
   "execution_count": null,
   "metadata": {
    "collapsed": true
   },
   "outputs": [],
   "source": []
  },
  {
   "cell_type": "code",
   "execution_count": null,
   "metadata": {
    "collapsed": false
   },
   "outputs": [],
   "source": []
  },
  {
   "cell_type": "code",
   "execution_count": null,
   "metadata": {
    "collapsed": true
   },
   "outputs": [],
   "source": []
  }
 ],
 "metadata": {
  "kernelspec": {
   "display_name": "Python 3",
   "language": "python",
   "name": "python3"
  },
  "language_info": {
   "codemirror_mode": {
    "name": "ipython",
    "version": 3
   },
   "file_extension": ".py",
   "mimetype": "text/x-python",
   "name": "python",
   "nbconvert_exporter": "python",
   "pygments_lexer": "ipython3",
   "version": "3.6.0"
  }
 },
 "nbformat": 4,
 "nbformat_minor": 2
}
